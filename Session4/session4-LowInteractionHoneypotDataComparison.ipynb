{
 "cells": [
  {
   "cell_type": "markdown",
   "metadata": {},
   "source": [
    "# WSE 380 - Low Interaction Honeypot Data Analysis\n",
    "In this notebook we will compare your honeypot data, which was recorded from a public cloud machine, to data from the same honeypot but located on a Stony Brook University computer. \n",
    "\n",
    "Before we begin, try to think why we might see differences between these two datasets. What would an attacker find interesting about targeting a public cloud computer vs. a university computer and vice versa?"
   ]
  },
  {
   "cell_type": "markdown",
   "metadata": {},
   "source": [
    "## Part 1: Data Preparation\n",
    "Let's start by importing all of our necessary libraries"
   ]
  },
  {
   "cell_type": "code",
   "execution_count": null,
   "metadata": {},
   "outputs": [],
   "source": [
    "import pandas as pd\n",
    "import numpy as np\n",
    "import matplotlib.pyplot as plt\n",
    "import maxminddb\n",
    "import json"
   ]
  },
  {
   "cell_type": "markdown",
   "metadata": {},
   "source": [
    "Now let's load our data in. All you need to do is enter the pathname of the file containing your honeypot data. If you put your data file in the same directory as this notebook, just enter the name of the file in the specified variable."
   ]
  },
  {
   "cell_type": "code",
   "execution_count": null,
   "metadata": {},
   "outputs": [],
   "source": [
    "#####################\n",
    "cloudHoneypotDataFile = '/home/user/ssh_logs.json' # Enter the path to your data file here\n",
    "#####################\n",
    "\n",
    "sbuHoneypotDataFile = 'sbuHoneypotLogs.json'\n",
    "NUM_LOGS_PER_FILE = 100_000\n",
    "\n",
    "# Load data from honeypot log files line by line and return dataframe containing all data\n",
    "def loadData(inputFileName):\n",
    "    honeypotActions = []\n",
    "    with open(inputFileName, 'r') as inputFile:\n",
    "        for line in inputFile:\n",
    "            if len(honeypotActions) >= NUM_LOGS_PER_FILE:\n",
    "                break\n",
    "            honeypotActions.append(json.loads(line))\n",
    "            \n",
    "    return pd.read_json(json.dumps(honeypotActions))\n",
    "\n",
    "cloudHoneypotData = loadData(cloudHoneypotDataFile)\n",
    "sbuHoneypotData = loadData(sbuHoneypotDataFile)"
   ]
  },
  {
   "cell_type": "markdown",
   "metadata": {},
   "source": [
    "Just like when we looked at this data individually, we want to break our dataset into two: connections to our honeypots and login attempts to our honeypots."
   ]
  },
  {
   "cell_type": "code",
   "execution_count": null,
   "metadata": {},
   "outputs": [],
   "source": [
    "cloudHoneypotConnections = cloudHoneypotData.loc[cloudHoneypotData['msg'] == 'Connection']\n",
    "cloudHoneypotLogins = cloudHoneypotData.loc[cloudHoneypotData['msg'] == 'Request with password']\n",
    "\n",
    "sbuHoneypotConnections = sbuHoneypotData.loc[sbuHoneypotData['msg'] == 'Connection']\n",
    "sbuHoneypotLogins = sbuHoneypotData.loc[sbuHoneypotData['msg'] == 'Request with password']"
   ]
  },
  {
   "cell_type": "markdown",
   "metadata": {},
   "source": [
    "### Helper Function\n",
    "Since we now have two different datasets that we're comparing, we want a way to combine multiple output dataframes into one to make it easier to view our data."
   ]
  },
  {
   "cell_type": "code",
   "execution_count": null,
   "metadata": {},
   "outputs": [],
   "source": [
    "# Input a list of dataframes and desired column names and output a dataframe that is the horizontal\n",
    "# concatenation of the inputs\n",
    "def combineDataFrames(outputColumnNames, inputDataFrames):\n",
    "    outputDataFrame = pd.concat(inputDataFrames, axis=1)\n",
    "    outputDataFrame.columns = outputColumnNames\n",
    "    return outputDataFrame"
   ]
  },
  {
   "cell_type": "markdown",
   "metadata": {},
   "source": [
    "## Part 2: Data Analysis\n",
    "### Timeframe of our collections\n",
    "Let's start by taking a look at the timeframe our collections occured over. This information is important so we can have a point of reference when comparing the raw number of connections and login attempts each dataset contains."
   ]
  },
  {
   "cell_type": "code",
   "execution_count": null,
   "metadata": {},
   "outputs": [],
   "source": [
    "# Set our timestamp field to the datatype, \"datetime\"\n",
    "cloudHoneypotData['time'] = pd.to_datetime(cloudHoneypotData['time'])\n",
    "sbuHoneypotData['time'] = pd.to_datetime(sbuHoneypotData['time'])\n",
    "\n",
    "\n",
    "print(\"The honeypot located on the cloud ran for %d days\" % \n",
    "          (cloudHoneypotData['time'].iloc[-1] - cloudHoneypotData['time'].iloc[0]).days)\n",
    "print(\"The honeypot located at SBU ran for %d days\" % \n",
    "      (sbuHoneypotData['time'].iloc[-1] - sbuHoneypotData['time'].iloc[0]).days)"
   ]
  },
  {
   "cell_type": "markdown",
   "metadata": {},
   "source": [
    "### Number of Connections and Authentication Attempts\n",
    "Now, let's see how many connections and login attempts we received in each of the datasets. \n",
    "\n",
    "Before you calculate this, which dataset do you think will have more connections/login attempts?"
   ]
  },
  {
   "cell_type": "code",
   "execution_count": null,
   "metadata": {},
   "outputs": [],
   "source": [
    "print('Number of connections on cloud honeypot: %d' % len(cloudHoneypotConnections))\n",
    "print('Number of logins on cloud honeypot: %d' % len(cloudHoneypotLogins))\n",
    "print()\n",
    "print('Number of connections on SBU honeypot: %d' % len(sbuHoneypotConnections))\n",
    "print('Number of logins on SBU honeypot: %d' % len(sbuHoneypotLogins))"
   ]
  },
  {
   "cell_type": "markdown",
   "metadata": {},
   "source": [
    "Do you see anything interesting in the number of connections/logins between the two datasets? If so, what do you see? Why do you think this is?"
   ]
  },
  {
   "cell_type": "markdown",
   "metadata": {},
   "source": [
    "### Top Credentials Used\n",
    "\n",
    "Now let's look at what credentials attackers used to try to log into our honeypots. We want to know what are the most popular credentials tried so we know not to use them for our own accounts. How do we define popular though? We can look at the raw number of times a particular username or password was used across all login attempts, or we can see how many attackers tried a particular username or password. Why not look at both? They both give us unique insights into what credentials attackers are using. Let's first look at the raw frequencies of credentials."
   ]
  },
  {
   "cell_type": "code",
   "execution_count": null,
   "metadata": {},
   "outputs": [],
   "source": [
    "cloudUsernameFreq = cloudHoneypotLogins['duser'].value_counts()\n",
    "cloudPasswordFreq = cloudHoneypotLogins['password'].value_counts()\n",
    "\n",
    "sbuUsernameFreq = sbuHoneypotLogins['duser'].value_counts()\n",
    "sbuPasswordFreq = sbuHoneypotLogins['password'].value_counts()\n",
    "\n",
    "cloudUsernamePassCombined = combineDataFrames(['username','usernameCount','password','passwordCount'], \n",
    "                                              [cloudUsernameFreq.reset_index(), cloudPasswordFreq.reset_index()])\n",
    "sbuUsernamePassCombined = combineDataFrames(['username','usernameCount','password','passwordCount'], \n",
    "                                              [sbuUsernameFreq.reset_index(), sbuPasswordFreq.reset_index()])\n",
    "\n",
    "topNToDisplay = 5\n",
    "print(\"Top credentials by raw count for honeypot on cloud machine:\")\n",
    "display(cloudUsernamePassCombined.head(n=topNToDisplay))\n",
    "print(\"\\nTop credentials by raw count for honeypot on SBU machine:\")\n",
    "display(sbuUsernamePassCombined.head(n=topNToDisplay))"
   ]
  },
  {
   "cell_type": "markdown",
   "metadata": {},
   "source": [
    "Here, we see the number of times each username or password was used is about the same between the two datasets. However, there are a **large** amount of logins to the username \"root\" in the SBU dataset. \n",
    "\n",
    "What does your dataset look like in comparison? If you see any differences, what are they and what might they mean?"
   ]
  },
  {
   "cell_type": "markdown",
   "metadata": {},
   "source": [
    "Now, let's see which credentials were tried by the greatest number of attackers. This will remove the cases where one attacker may try one username or password many times, swaying the results."
   ]
  },
  {
   "cell_type": "code",
   "execution_count": null,
   "metadata": {},
   "outputs": [],
   "source": [
    "cloudUsernameAttackerFreq = pd.DataFrame(cloudHoneypotLogins.groupby(['duser'])['src'].nunique().sort_values(ascending=False)).reset_index()\n",
    "cloudPasswordAttackerFreq = pd.DataFrame(cloudHoneypotLogins.groupby(['password'])['src'].nunique().sort_values(ascending=False)).reset_index()\n",
    "sbuUsernameAttackerFreq = pd.DataFrame(sbuHoneypotLogins.groupby(['duser'])['src'].nunique().sort_values(ascending=False)).reset_index()\n",
    "sbuPasswordAttackerFreq = pd.DataFrame(sbuHoneypotLogins.groupby(['password'])['src'].nunique().sort_values(ascending=False)).reset_index()\n",
    "\n",
    "numUniqueCloudAttackers = len(cloudHoneypotLogins['src'].unique())\n",
    "numUniqueSbuAttackers = len(sbuHoneypotLogins['src'].unique())\n",
    "\n",
    "cloudUsernameAttackerFreq['userPercentage'] = cloudUsernameAttackerFreq['src'].apply(\n",
    "                                                lambda x: '%.2f%%' % (x / numUniqueCloudAttackers * 100))\n",
    "cloudPasswordAttackerFreq['passPercentage'] = cloudPasswordAttackerFreq['src'].apply(\n",
    "                                                lambda x: '%.2f%%' % (x / numUniqueCloudAttackers * 100))\n",
    "sbuUsernameAttackerFreq['userPercentage'] = sbuUsernameAttackerFreq['src'].apply(\n",
    "                                                lambda x: '%.2f%%' % (x / numUniqueSbuAttackers * 100))\n",
    "sbuPasswordAttackerFreq['passPercentage'] = sbuPasswordAttackerFreq['src'].apply(\n",
    "                                                lambda x: '%.2f%%' % (x / numUniqueSbuAttackers * 100))\n",
    "\n",
    "columnNames = ['username','usernameCount','userAttackerPercentage','password','passwordCount','passAttackerPercentage']\n",
    "cloudUserPassAttackerFreq = combineDataFrames(columnNames, [cloudUsernameAttackerFreq, cloudPasswordAttackerFreq])\n",
    "sbuUserPassAttackerFreq = combineDataFrames(columnNames, [sbuUsernameAttackerFreq, sbuPasswordAttackerFreq])\n",
    "\n",
    "topNToDisplay = 5\n",
    "print(\"Top credentials by most unique attacker usage on cloud machine:\")\n",
    "display(cloudUserPassAttackerFreq.head(n=topNToDisplay))\n",
    "print(\"\\nTop credentials by most unique attacker usage on SBU machine:\")\n",
    "display(sbuUserPassAttackerFreq.head(n=topNToDisplay))"
   ]
  },
  {
   "cell_type": "markdown",
   "metadata": {},
   "source": [
    "These tables tell us a different story. While the first tables may be swayed by one attacker trying to break into one account over and over again, these tables let us know how many attackers try each username and password. Here we can see that there seems to be way more unique attackers connecting to the cloud machine than the SBU machine. Let's see what those numbers look like:"
   ]
  },
  {
   "cell_type": "code",
   "execution_count": null,
   "metadata": {},
   "outputs": [],
   "source": [
    "print(\"Number of unique attackers that connected to cloud machine: %d\" % \n",
    "            len(cloudHoneypotConnections['src'].unique()))\n",
    "print(\"Number of unique attackers that connected to SBU machine: %d\" % \n",
    "             len(sbuHoneypotConnections['src'].unique()))"
   ]
  },
  {
   "cell_type": "markdown",
   "metadata": {},
   "source": [
    "There past two measurements give us a better idea of what's going on. Based on the raw connection and login attempt numbers, it seemed like the SBU honeypot received more attention than the public cloud honeypot. However, this shows us public cloud machines get a larger number of attackers connecting to them, but maybe not as patient attackers. \n",
    "\n",
    "Why do you think attackers connecting to the SBU honeypot might make more login attempts than attackers on the public cloud honeypot?"
   ]
  },
  {
   "cell_type": "markdown",
   "metadata": {},
   "source": [
    "### Attacker Login Frequency\n",
    "Now let's look to see the number of usernames and passwords the most active attackers used. An attacker that tried a lot of usernames but not passwords may have wanted to see if there exists one of many possible usernames that have a very weak password on the server. While an attacker that tried many passwords but not many usernames was targeting a single or small number of usernames."
   ]
  },
  {
   "cell_type": "code",
   "execution_count": null,
   "metadata": {},
   "outputs": [],
   "source": [
    "# Here we group our login data by each IP address and count the number of distinct user names and passwords in each group\n",
    "cloudIPUsernameFreq = cloudHoneypotLogins.groupby(['src'])['duser'].nunique().sort_values(ascending=False).reset_index()\n",
    "cloudIPPasswordFreq = cloudHoneypotLogins.groupby(['src'])['password'].nunique().sort_values(ascending=False).reset_index()\n",
    "cloudIPCredentialFreq = combineDataFrames(['IP','Unique Usernames','IP','Unique Passwords'],\n",
    "                                              [cloudIPUsernameFreq,cloudIPPasswordFreq])\n",
    "\n",
    "sbuIPUsernameFreq = sbuHoneypotLogins.groupby(['src'])['duser'].nunique().sort_values(ascending=False).reset_index()\n",
    "sbuIPPasswordFreq = sbuHoneypotLogins.groupby(['src'])['password'].nunique().sort_values(ascending=False).reset_index()\n",
    "sbuIPCredentialFreq = combineDataFrames(['IP','Unique Usernames','IP','Unique Passwords'],\n",
    "                                              [sbuIPUsernameFreq,sbuIPPasswordFreq])\n",
    "\n",
    "\n",
    "topNToDisplay = 5\n",
    "display(pd.DataFrame(cloudIPCredentialFreq.head(n=topNToDisplay)))\n",
    "display(pd.DataFrame(sbuIPCredentialFreq.head(n=topNToDisplay)))"
   ]
  },
  {
   "cell_type": "markdown",
   "metadata": {},
   "source": [
    "The last statistic we are going to generate about this data is the number of login attempts attackers tried before quitting. However, instead of making more tables, let's try to plot this data. We are going to make a \"Cumulative Distribution Function\" or \"CDF\" plot. While the name may sound complex, what we are looking to find is simply, \"what percentage of attackers made less than or equal to x number of login attempts?\". In other words, when we look at our firgure, we want to be able to say for example \"20% of attackers tried to log in less than or equal to 10,000 times\". The x axis of our plot will be the number of login attempts and the y axis will be the percentage of all attackers. Let's see it in action."
   ]
  },
  {
   "cell_type": "code",
   "execution_count": null,
   "metadata": {},
   "outputs": [],
   "source": [
    "# Here we're getting the number of login attempts per IP address using the value_counts() function on the source IP\n",
    "# address column\n",
    "cloudNumAuthTriesPerIP = cloudHoneypotLogins['src'].value_counts()\n",
    "sbuNumAuthTriesPerIP = sbuHoneypotLogins['src'].value_counts()\n",
    "\n",
    "fig, ax = plt.subplots(figsize=(14, 8))\n",
    "\n",
    "ax.hist(cloudNumAuthTriesPerIP, cumulative=True, density=True, bins=1000, histtype='step', label=\"Cloud\")\n",
    "ax.hist(sbuNumAuthTriesPerIP, cumulative=True, density=True, bins=1000, histtype='step', label=\"SBU\")\n",
    "\n",
    "plt.title('CDF of Login Attempts per Attacker IP Address')\n",
    "plt.xlabel('Number of Login Attempts')\n",
    "plt.ylabel('Percentage of Attackers')\n",
    "plt.legend(loc=4)\n",
    "plt.show()"
   ]
  },
  {
   "cell_type": "markdown",
   "metadata": {},
   "source": [
    "What does your CDF plot tell you about the difference in how attackers behave on the public cloud vs. on SBU honeypots?"
   ]
  },
  {
   "cell_type": "markdown",
   "metadata": {},
   "source": [
    "### Attacker Locations\n",
    "Let's create a new column in our dataset with the country each attacker came from. To do this, we'll use the name `apply()` function we saw earlier. Since an attacker's location won't change between login attempts, we'll use the connection dataset we defined earlier.\n",
    "\n",
    "**Note:** You may see a `SettingWithCopyWarning` when running the following code. Don't worry about this. It is telling us we're adding values to a copy of a dataframe rather than the actual dataframe. In our case this is okay."
   ]
  },
  {
   "cell_type": "code",
   "execution_count": null,
   "metadata": {},
   "outputs": [],
   "source": [
    "reader = maxminddb.open_database('GeoLite2-City.mmdb')\n",
    "\n",
    "def getCountryName(ip):\n",
    "    locationData = reader.get(ip)\n",
    "    \n",
    "    # In the cases where the IP address' location can't be determined, we return an empty string\n",
    "    if locationData is None or 'country' not in locationData:\n",
    "        return ''\n",
    "    \n",
    "    return locationData['country']['names']['en']\n",
    "    \n",
    "cloudHoneypotConnections = cloudHoneypotConnections.copy()\n",
    "sbuHoneypotConnections = sbuHoneypotConnections.copy()\n",
    "cloudHoneypotConnections['country'] = cloudHoneypotConnections['src'].apply(lambda ip: getCountryName(ip))\n",
    "sbuHoneypotConnections['country'] = sbuHoneypotConnections['src'].apply(lambda ip: getCountryName(ip))"
   ]
  },
  {
   "cell_type": "markdown",
   "metadata": {},
   "source": [
    "Now that we have each IP's location, let's get the most popular countries, first by the raw number of connections originating from each country."
   ]
  },
  {
   "cell_type": "code",
   "execution_count": null,
   "metadata": {},
   "outputs": [],
   "source": [
    "numCloudConnectionsPerCountry = cloudHoneypotConnections['country'].value_counts()\n",
    "numSBUConnectionsPerCountry = sbuHoneypotConnections['country'].value_counts()\n",
    "\n",
    "topNToDisplay = 5\n",
    "print('Top %d locations of attackers in the cloud honeypot dataset:' % topNToDisplay)\n",
    "display(numCloudConnectionsPerCountry.head(n = topNToDisplay))\n",
    "print('Top %d locations of attackers in the SBU honeypot dataset:' % topNToDisplay)\n",
    "display(numSBUConnectionsPerCountry.head(n = topNToDisplay))"
   ]
  },
  {
   "cell_type": "markdown",
   "metadata": {},
   "source": [
    "Now, let's see where the most **unique** attackers come from."
   ]
  },
  {
   "cell_type": "code",
   "execution_count": null,
   "metadata": {},
   "outputs": [],
   "source": [
    "# Remove duplicate rows, keeping only the first connection of each IP address\n",
    "cloudHoneypotConnectionsUnique = cloudHoneypotConnections.drop_duplicates('src')\n",
    "sbuHoneypotConnectionsUnique = sbuHoneypotConnections.drop_duplicates('src')\n",
    "\n",
    "# Count the number of times each country appears\n",
    "numCloudConnectionsPerCountry = cloudHoneypotConnectionsUnique['country'].value_counts()\n",
    "numSBUConnectionsPerCountry = sbuHoneypotConnectionsUnique['country'].value_counts()\n",
    "\n",
    "topNToDisplay = 5\n",
    "print('Top %d locations of attackers in the cloud honeypot dataset:' % topNToDisplay)\n",
    "display(numCloudConnectionsPerCountry.head(n = topNToDisplay))\n",
    "print('Top %d locations of attackers in the SBU honeypot dataset:' % topNToDisplay)\n",
    "display(numSBUConnectionsPerCountry.head(n = topNToDisplay))"
   ]
  },
  {
   "cell_type": "markdown",
   "metadata": {},
   "source": [
    "Where did attackers originate in your dataset? Did filtering by unique attackers change your top 5 rankings much?"
   ]
  },
  {
   "cell_type": "markdown",
   "metadata": {},
   "source": [
    "## What did you find?\n",
    "You now have some basic statistics and figures describing your dataset. Take a look at what you found and make some notes on anything interesting. We will discuss our findings during our next session. If you can think of any other interesting insights we did not do here, try them out yourself below!"
   ]
  },
  {
   "cell_type": "markdown",
   "metadata": {},
   "source": [
    "## Discussion Questions\n",
    "1. What is the most frequently-occurring country from which attackers originate?\n",
    "2. True or False: Most attackers originate from your answer to #1.\n",
    "3. What are some factors that could have influenced the results we are seeing?\n",
    "4. How could we have expanded on this experiment to have more accurate results?\n",
    "5. What are some reasonable conclusions you can draw from these results?\n",
    "6. Conversely, what conclusions are **not reasonable given the data**?"
   ]
  }
 ],
 "metadata": {
  "kernelspec": {
   "display_name": "Python 3 (ipykernel)",
   "language": "python",
   "name": "python3"
  },
  "language_info": {
   "codemirror_mode": {
    "name": "ipython",
    "version": 3
   },
   "file_extension": ".py",
   "mimetype": "text/x-python",
   "name": "python",
   "nbconvert_exporter": "python",
   "pygments_lexer": "ipython3",
   "version": "3.8.10"
  }
 },
 "nbformat": 4,
 "nbformat_minor": 2
}
