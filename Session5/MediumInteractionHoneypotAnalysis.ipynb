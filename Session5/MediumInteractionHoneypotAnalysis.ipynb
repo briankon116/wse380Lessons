{
 "cells": [
  {
   "cell_type": "markdown",
   "metadata": {},
   "source": [
    "# WSE 380 - Medium Interaction Honeypot Data Analysis\n",
    "In this notebook we will go through our medium interaction honeypot data and attempt to extract interesting insights to help us better understand where attackers are coming from and what they are doing.\n",
    "## Part 0: Install Dependencies\n",
    "In addition to the dependencies we already have installed, we need to install the ploytly. This library will allow us to plot attacker locations on an interactive world map. We install it using the following command:\n",
    "\n",
    "`pip3 install plotly`\n",
    "\n",
    "## Part 1: Data Preparation\n",
    "Let's start by importing all of the necessary libraries"
   ]
  },
  {
   "cell_type": "code",
   "execution_count": null,
   "metadata": {},
   "outputs": [],
   "source": [
    "import pandas as pd\n",
    "import numpy as np\n",
    "import matplotlib.pyplot as plt\n",
    "import maxminddb\n",
    "import json, os, requests\n",
    "import plotly.graph_objects as go\n",
    "from io import StringIO"
   ]
  },
  {
   "cell_type": "markdown",
   "metadata": {},
   "source": [
    "Now let's load our data in. All you need to do is enter the pathname of the folder containing your honeypot data. If you put your data folder in the same directory as this notebook, just enter the name of the folder here."
   ]
  },
  {
   "cell_type": "code",
   "execution_count": null,
   "metadata": {},
   "outputs": [],
   "source": [
    "# Load in the data from one particular data file and return that in its own Dataframe\n",
    "def loadHoneypotDataFile(filePath):\n",
    "    maxLines = 1000\n",
    "    linesLoaded = 0\n",
    "    honeypotActions = []\n",
    "    with open(filePath, 'r') as inputFile:\n",
    "        for line in inputFile:\n",
    "            if(linesLoaded > maxLines):\n",
    "                break\n",
    "            linesLoaded+=1\n",
    "            honeypotActions.append(json.loads(line))\n",
    "\n",
    "    honeypotData = pd.read_json(StringIO(json.dumps(honeypotActions)))\n",
    "    print(f\" loaded {linesLoaded} lines from {filePath}\")\n",
    "    return honeypotData\n",
    "\n",
    "############################\n",
    "honeypotDataFolder = '../cowrie/var/log/cowrie' # Enter the path to the folder containing your honeypot files\n",
    "############################\n",
    "\n",
    "# Loop through all of the files in the directory specified, get each files's dataframe and append\n",
    "# it to the main datafram\n",
    "honeypotData = pd.DataFrame()\n",
    "maxFiles = 1\n",
    "filesLoaded = 0\n",
    "for honeypotDataFile in os.listdir(honeypotDataFolder):\n",
    "    if(filesLoaded > maxFiles):\n",
    "        break\n",
    "    honeypotDataFile = os.path.join(honeypotDataFolder, honeypotDataFile)\n",
    "\n",
    "    if('json' in honeypotDataFile):\n",
    "        filesLoaded+=1\n",
    "        currentData = loadHoneypotDataFile(honeypotDataFile)\n",
    "        honeypotData = pd.concat([honeypotData, currentData], ignore_index=True)\n",
    "        \n",
    "\n",
    "# Sort the end dataframe by the timestamp field\n",
    "honeypotData = honeypotData.sort_values('timestamp')"
   ]
  },
  {
   "cell_type": "markdown",
   "metadata": {},
   "source": [
    "Now that we have our data loaded into memory, let's use the `head()` function of Pandas to view the first few values of our newly created dataframe"
   ]
  },
  {
   "cell_type": "code",
   "execution_count": null,
   "metadata": {},
   "outputs": [],
   "source": [
    "print('Data has %d rows and %d columns' % (honeypotData.shape[0], honeypotData.shape[1]))\n",
    "\n",
    "honeypotData.head()"
   ]
  },
  {
   "cell_type": "markdown",
   "metadata": {},
   "source": [
    "Unlike the low interaction honeypot data, our medium interaction honeypot records many different kinds of actions, many more than we can see just by looking at the first few elements. Let's see how many distinct actions are recorded by our honeypot:"
   ]
  },
  {
   "cell_type": "code",
   "execution_count": null,
   "metadata": {},
   "outputs": [],
   "source": [
    "uniqueActionCounts = honeypotData['eventid'].value_counts()\n",
    "print('%d unique actions recorded by the honeypot: ' % len(uniqueActionCounts))\n",
    "uniqueActionCounts"
   ]
  },
  {
   "cell_type": "markdown",
   "metadata": {},
   "source": [
    "There's a lot more to this data than the low interaction honeypot data! Therefore, we can't break our data up into multiple parts like we did last time. Instead we will filter out the data we're interested in on the fly."
   ]
  },
  {
   "cell_type": "markdown",
   "metadata": {},
   "source": [
    "## Part 2: Data Analysis\n",
    "### Basic Stats\n",
    "Let's start by simply figuring out how many connections and login attempts we received."
   ]
  },
  {
   "cell_type": "code",
   "execution_count": null,
   "metadata": {},
   "outputs": [],
   "source": [
    "honeypotConnections = honeypotData.loc[honeypotData['eventid'] == 'cowrie.session.connect']\n",
    "honeypotLoginAttempts = honeypotData.loc[(honeypotData['eventid'] == 'cowrie.login.success')\n",
    "                                       | (honeypotData['eventid'] == 'cowrie.login.failed')]\n",
    "\n",
    "print('Number of connections: %d' % honeypotConnections.shape[0])\n",
    "print('Number of login attempts: %d' % honeypotLoginAttempts.shape[0])"
   ]
  },
  {
   "cell_type": "markdown",
   "metadata": {},
   "source": [
    "Unlike the low interaction honeypot, Cowrie distinguishes successful logins from failed logins. To ensure the effectiveness of our honeypot, we want to make sure the users we setup allowed for a sufficient number of successful logins."
   ]
  },
  {
   "cell_type": "code",
   "execution_count": null,
   "metadata": {},
   "outputs": [],
   "source": [
    "numFailedLogins = honeypotData.loc[honeypotData['eventid'] == 'cowrie.login.failed'].shape[0]\n",
    "numSuccessfulLogins = honeypotData.loc[honeypotData['eventid'] == 'cowrie.login.success'].shape[0]\n",
    "\n",
    "print('%d successful logins, %d failed logins, %.2f%% of logins succeeded' % (numSuccessfulLogins, numFailedLogins, \n",
    "                                                  (numSuccessfulLogins / honeypotLoginAttempts.shape[0] * 100)))"
   ]
  },
  {
   "cell_type": "markdown",
   "metadata": {},
   "source": [
    "There is no \"right\" answer of what percentage of logins should be successful on a honeypot. It depends entirely on what you're trying to accomplish with your honeypot. In our case we want as much data as possible so the higher percentage of successful logins, the better.\n",
    "\n",
    "To give our login statistics a point of reference, let's see how many unique attackers logged in."
   ]
  },
  {
   "cell_type": "code",
   "execution_count": null,
   "metadata": {},
   "outputs": [],
   "source": [
    "numAttackerIPs = len(honeypotData.src_ip.unique())\n",
    "print('Number of unique IP addresses encountered: %d' % numAttackerIPs)"
   ]
  },
  {
   "cell_type": "markdown",
   "metadata": {},
   "source": [
    "### Top Credentials Used\n",
    "\n",
    "Now let's look at what credentials attackers used to try to log into our honeypots. We want to know what are the most popular credentials tried so we know not to use them for our own accounts. How do we define popular though? We can look at the raw number of times a particular username or password was used across all login attempts, or we can see how many attackers tried a particular username or password. Why not look at both? They both give us unique insights into what credentials attackers are using. Let's first look at the raw frequencies of credentials."
   ]
  },
  {
   "cell_type": "code",
   "execution_count": null,
   "metadata": {},
   "outputs": [],
   "source": [
    "usernameFreq = honeypotLoginAttempts['username'].value_counts()\n",
    "passwordFreq = honeypotLoginAttempts['password'].value_counts()\n",
    "\n",
    "topNToDisplay = 5\n",
    "\n",
    "display(pd.DataFrame(usernameFreq.head(n=topNToDisplay)))\n",
    "display(pd.DataFrame(passwordFreq.head(n=topNToDisplay)))"
   ]
  },
  {
   "cell_type": "markdown",
   "metadata": {},
   "source": [
    "Here, we can see how many times each username and password was tried. This gives us a great view into:\n",
    "1. Which account names attract attackers the most\n",
    "2. Which passwords attackers try first/most\n",
    "\n",
    "Now, let's see which credentials were tried by the greatest number of attackers."
   ]
  },
  {
   "cell_type": "code",
   "execution_count": null,
   "metadata": {},
   "outputs": [],
   "source": [
    "usernameAttackerFreq = pd.DataFrame(honeypotLoginAttempts.groupby(['username'])['src_ip'].nunique().sort_values(ascending=False))\n",
    "passwordAttackerFreq = pd.DataFrame(honeypotLoginAttempts.groupby(['password'])['src_ip'].nunique().sort_values(ascending=False))\n",
    "\n",
    "# Here we get the number of unique IP addresses as a basic measure of the number of attackers\n",
    "numUniqueAttackers = len(honeypotLoginAttempts['src_ip'].unique())\n",
    "\n",
    "# We can use the apply() function of Pandas to pass each element of a column to a function and set the output to a new column\n",
    "usernameAttackerFreq['percentage'] = usernameAttackerFreq['src_ip'].apply(lambda x: '%.2f%%' % (x / numUniqueAttackers * 100))\n",
    "passwordAttackerFreq['percentage'] = passwordAttackerFreq['src_ip'].apply(lambda x: '%.2f%%' % (x / numUniqueAttackers * 100))\n",
    "\n",
    "topNToDisplay = 5\n",
    "\n",
    "display(usernameAttackerFreq.head(n=topNToDisplay))\n",
    "display(passwordAttackerFreq.head(n=topNToDisplay))"
   ]
  },
  {
   "cell_type": "markdown",
   "metadata": {},
   "source": [
    "Now that we know what percentage of attackers tried each username and password, we can see more clearly which credentials are most popular.\n",
    "\n",
    "### Attacker Login Frequency\n",
    "Now let's look to see the number of usernames and passwords the most active attackers used. An attacker that tried a lot of usernames but not passwords may have wanted to see if there exists one of many possible usernames that have a very weak password on the server. While an attacker that tried many passwords but not many usernames was targeting a single or small number of usernames."
   ]
  },
  {
   "cell_type": "code",
   "execution_count": null,
   "metadata": {},
   "outputs": [],
   "source": [
    "# Here we group our login data by each IP address and count the number of distinct user names and passwords in each group\n",
    "ipUsernameFreq = honeypotLoginAttempts.groupby(['src_ip'])['username'].nunique().sort_values(ascending=False)\n",
    "ipPasswordFreq = honeypotLoginAttempts.groupby(['src_ip'])['password'].nunique().sort_values(ascending=False)\n",
    "\n",
    "topNToDisplay = 5\n",
    "\n",
    "display(pd.DataFrame(ipUsernameFreq.head(n=topNToDisplay)))\n",
    "display(pd.DataFrame(ipPasswordFreq.head(n=topNToDisplay)))"
   ]
  },
  {
   "cell_type": "markdown",
   "metadata": {},
   "source": [
    "The last statistic we are going to generate about this data is the number of login attempts attackers tried before quitting. However, instead of making more tables, let's try to plot this data. We are going to make a \"Cumulative Distribution Function\" or \"CDF\" plot. While the name may sound complex, what we are looking to find is simply, \"what percentage of attackers made less than or equal to x number of login attempts?\". In other words, when we look at our firgure, we want to be able to say for example \"20% of attackers tried to log in less than or equal to 10,000 times\". The x axis of our plot will be the number of login attempts and the y axis will be the percentage of all attackers. Let's see it in action."
   ]
  },
  {
   "cell_type": "code",
   "execution_count": null,
   "metadata": {},
   "outputs": [],
   "source": [
    "# Here we're getting the number of login attempts per IP address using the value_counts() function on the source IP\n",
    "# address column\n",
    "numAuthTriesPerIP = honeypotLoginAttempts['src_ip'].value_counts().reset_index()\n",
    "#numAuthTriesPerIP = numAuthTriesPerIP.loc[numAuthTriesPerIP.src_ip < 20]\n",
    "\n",
    "fig, ax = plt.subplots(figsize=(14, 8))\n",
    "\n",
    "ax.hist(numAuthTriesPerIP['src_ip'], cumulative=True, density=True, bins=1000, histtype='step')\n",
    "\n",
    "plt.title('Cumulative Distribution Function of the Total Login Attempts by Each Attacker')\n",
    "plt.xlabel('Number of Login Attempts')\n",
    "plt.ylabel('Percentage of Attackers')\n",
    "plt.show()"
   ]
  },
  {
   "cell_type": "markdown",
   "metadata": {},
   "source": [
    "To view the same information in a different format, let's make a boxplot."
   ]
  },
  {
   "cell_type": "code",
   "execution_count": null,
   "metadata": {},
   "outputs": [],
   "source": [
    "# Here we're getting the number of login attempts per IP address using the value_counts() function on the source IP\n",
    "# address column\n",
    "numAuthTriesPerIP = honeypotLoginAttempts['src_ip'].value_counts().reset_index()\n",
    "#numAuthTriesPerIP = numAuthTriesPerIP.loc[numAuthTriesPerIP.src_ip < 20]\n",
    "\n",
    "fig, ax = plt.subplots(figsize=(14, 8))\n",
    "\n",
    "# Change the 'showfliers' argument to False to see what the dataset looks like without outliers\n",
    "ax.boxplot(numAuthTriesPerIP['src_ip'], showfliers=True)\n",
    "\n",
    "plt.title('The Number of Login Attempts by Each Attacker')\n",
    "plt.ylabel('Number of Login Attempts')\n",
    "plt.show()"
   ]
  },
  {
   "cell_type": "markdown",
   "metadata": {},
   "source": [
    "### Attacker Locations\n",
    "The last bit of analysis we will try on our low interaction honeypot data will look to determine where in the world attackers are coming from. To do this, we are going to use the Maxmind DB library we intalled at the beginning. This library allows us to get an estimate of where an IP address is located in the world. It's not perfect but close enough for our analysis. This library gets its information from a GeoIP database file. Along with this notebook is a current databse file but in the future you can download an updated database from the [Maxmind website](https://dev.maxmind.com/geoip/geoip2/downloadable/).\n",
    "\n",
    "To get started with the Maxmind library, let's look to see how we can get location information on a single IP address. First, we must load in the database from the local file, and then we use the `get()` function with the IP address we're interested in. In this example we got the location information for Google's open DNS server. This library returns data in a dictionary, meaning we must reference the values we're interested in by their keys."
   ]
  },
  {
   "cell_type": "code",
   "execution_count": null,
   "metadata": {},
   "outputs": [],
   "source": [
    "reader = maxminddb.open_database('../Session3/GeoLite2-City.mmdb')"
   ]
  },
  {
   "cell_type": "markdown",
   "metadata": {},
   "source": [
    "Let's create a new column in our dataset with the country each attacker came from. To do this, we'll use the name `apply()` function we saw earlier. Since an attacker's location won't change between login attempts, we'll use the connection dataset we defined earlier.\n",
    "\n",
    "Let's also do the same thing for the country code as well. We need this information for the plotting we will do below.\n",
    "\n",
    "**Note:** You may see a `SettingWithCopyWarning` when running the following code. Don't worry about this. It is telling us we're adding values to a copy of a dataframe rather than the actual dataframe. In our case this is okay."
   ]
  },
  {
   "cell_type": "code",
   "execution_count": null,
   "metadata": {},
   "outputs": [],
   "source": [
    "r = requests.get('http://country.io/iso3.json')\n",
    "countryCodeMappings = r.json()\n",
    "\n",
    "def getCountryName(ip):\n",
    "    locationData = reader.get(ip)\n",
    "    \n",
    "    # In the cases where the IP address' location can't be determined, we return an empty string\n",
    "    if(locationData == None or 'country' not in locationData):\n",
    "        return ''\n",
    "    \n",
    "    return locationData['country']['names']['en']\n",
    "\n",
    "def getCountryCode(ip):\n",
    "    locationData = reader.get(ip)\n",
    "    \n",
    "    # In the cases where the IP address' location can't be determined, we return an empty string\n",
    "    if(locationData == None or 'country' not in locationData):\n",
    "        return ''\n",
    "    \n",
    "    return countryCodeMappings[locationData['country']['iso_code']]\n",
    "\n",
    "honeypotConnections = honeypotConnections.copy()\n",
    "honeypotConnections['country'] = honeypotConnections['src_ip'].apply(lambda ip: getCountryName(ip))\n",
    "honeypotConnections['country_code'] = honeypotConnections['src_ip'].apply(lambda ip: getCountryCode(ip))"
   ]
  },
  {
   "cell_type": "markdown",
   "metadata": {},
   "source": [
    "Now that we have each IP's location, let's get the most popular countries"
   ]
  },
  {
   "cell_type": "code",
   "execution_count": null,
   "metadata": {},
   "outputs": [],
   "source": [
    "topNToDisplay = 10\n",
    "\n",
    "numConnectionsPerCountry = honeypotConnections['country'].value_counts().reset_index()\n",
    "\n",
    "display(numConnectionsPerCountry.head(n = topNToDisplay))"
   ]
  },
  {
   "cell_type": "markdown",
   "metadata": {},
   "source": [
    "Now let's display this same information in a more interesting way. We can use the plotly library to create an interactive world map that allows us to zoom in and hover over each country to get how many attackers originated from there."
   ]
  },
  {
   "cell_type": "code",
   "execution_count": null,
   "metadata": {},
   "outputs": [],
   "source": [
    "numConnectionsPerCountryCode = honeypotConnections['country_code'].value_counts().reset_index()\n",
    "\n",
    "fig = go.Figure(data=go.Choropleth(\n",
    "    locations = numConnectionsPerCountryCode['index'],\n",
    "    z = numConnectionsPerCountryCode['country_code'],\n",
    "    text = numConnectionsPerCountryCode['index'],\n",
    "    colorscale = 'Blues',\n",
    "    autocolorscale=True,\n",
    "    reversescale=False,\n",
    "    marker_line_color='darkgray',\n",
    "    marker_line_width=0.5,\n",
    "    colorbar_title = 'Number of<br> Connections',\n",
    "))\n",
    "\n",
    "fig.update_layout(\n",
    "    title_text='Attacker Locations',\n",
    "    geo=dict(\n",
    "        showframe=False,\n",
    "        showcoastlines=False,\n",
    "        projection_type='equirectangular'\n",
    "    ),\n",
    ")\n",
    "\n",
    "fig.show()"
   ]
  },
  {
   "cell_type": "markdown",
   "metadata": {},
   "source": [
    "## Commands Executed\n",
    "Unlike the low interaction honeypot, medium interaction honeypots allow the attacker to actually interact with the system. This means we have data on which commands attackers ran on our honeypot. Let's take a look at the most popular commands."
   ]
  },
  {
   "cell_type": "code",
   "execution_count": null,
   "metadata": {},
   "outputs": [],
   "source": [
    "honeypotCommandInputs = honeypotData.loc[honeypotData['eventid'] == 'cowrie.command.input']\n",
    "honeypotCommandInputCounts = honeypotCommandInputs['input'].value_counts().reset_index()\n",
    "\n",
    "print('%d total commands executed' % honeypotCommandInputs.shape[0])\n",
    "display(honeypotCommandInputCounts.head(n=20))\n",
    "honeypotCommandInputCounts.to_csv('honeypotCommandInputCounts.csv')"
   ]
  },
  {
   "cell_type": "markdown",
   "metadata": {},
   "source": [
    "Now let's look at the commands that were successfully ran by our honeypot. If a command was successfully ran, it means Cowrie had some code to support the output of that command."
   ]
  },
  {
   "cell_type": "code",
   "execution_count": null,
   "metadata": {},
   "outputs": [],
   "source": [
    "honeypotSuccessfulCommandInputs = honeypotData.loc[honeypotData['eventid'] == 'cowrie.command.success']\n",
    "honeypotSuccessfulCommandInputCounts = honeypotSuccessfulCommandInputs['input'].value_counts().reset_index()\n",
    "\n",
    "print('%d commands successfully executed' % honeypotSuccessfulCommandInputs.shape[0])\n",
    "display(honeypotSuccessfulCommandInputCounts.head(n=20))"
   ]
  },
  {
   "cell_type": "markdown",
   "metadata": {},
   "source": [
    "On the other hand, if Cowrie didn't know how to handle a command, it told the attacker the command was not found even if it was a valid command on Linux. Why might this be bad?"
   ]
  },
  {
   "cell_type": "code",
   "execution_count": null,
   "metadata": {},
   "outputs": [],
   "source": [
    "honeypotFailedCommandInputs = honeypotData.loc[honeypotData['eventid'] == 'cowrie.command.failed']\n",
    "honeypotFailedCommandInputCounts = honeypotFailedCommandInputs['input'].value_counts().reset_index()\n",
    "\n",
    "print('%d commands failed to execute' % honeypotFailedCommandInputs.shape[0])\n",
    "display(honeypotFailedCommandInputCounts.head(n=20))"
   ]
  },
  {
   "cell_type": "markdown",
   "metadata": {},
   "source": [
    "## Downloaded and Uploaded Files\n",
    "Attackers also download files to machines they compromise and upload files back to their own machines. Let's take a look at what these attackers did and try to figure out the reasoning.\n",
    "\n",
    "Downloaded files:"
   ]
  },
  {
   "cell_type": "code",
   "execution_count": null,
   "metadata": {},
   "outputs": [],
   "source": [
    "honeypotDownloadedFiles = honeypotData.loc[honeypotData['eventid'] == 'cowrie.session.file_download']\n",
    "honeypotUploadedFiles = honeypotData.loc[honeypotData['eventid'] == 'cowrie.session.file_upload']\n",
    "\n",
    "print('%d files downloaded overall' % honeypotDownloadedFiles.shape[0])\n",
    "display(honeypotDownloadedFiles['destfile'].value_counts().reset_index())"
   ]
  },
  {
   "cell_type": "markdown",
   "metadata": {},
   "source": [
    "Uploaded files:"
   ]
  },
  {
   "cell_type": "code",
   "execution_count": null,
   "metadata": {},
   "outputs": [],
   "source": [
    "print('%d file uploaded overall' % honeypotUploadedFiles.shape[0])\n",
    "display(honeypotUploadedFiles['destfile'].value_counts().reset_index())"
   ]
  },
  {
   "cell_type": "markdown",
   "metadata": {},
   "source": [
    "## SSH Forwarding\n",
    "The last main action attackers might take against compromised SSH servers is using them as a proxy server to launch further attacks. Why might attackers want to do this?\n",
    "\n",
    "Let's look at where attackers are connecting through our honeypots."
   ]
  },
  {
   "cell_type": "code",
   "execution_count": null,
   "metadata": {},
   "outputs": [],
   "source": [
    "honeypotForwardingRequests = honeypotData.loc[honeypotData['eventid'] == 'cowrie.direct-tcpip.request']\n",
    "\n",
    "print('%d forwarding requests made by attackers' % honeypotForwardingRequests.shape[0])\n",
    "display(honeypotForwardingRequests['dst_ip'].value_counts().reset_index().head(n=10))"
   ]
  },
  {
   "cell_type": "markdown",
   "metadata": {},
   "source": [
    "## What did you find?\n",
    "You now have some basic statistics and figures describing your dataset. Take a look at what you found and make some notes on anything interesting. We will discuss our findings during our next session. If you can think of any other interesting insights we did not do here, try them out yourself below!"
   ]
  }
 ],
 "metadata": {
  "kernelspec": {
   "display_name": "Python 3 (ipykernel)",
   "language": "python",
   "name": "python3"
  },
  "language_info": {
   "codemirror_mode": {
    "name": "ipython",
    "version": 3
   },
   "file_extension": ".py",
   "mimetype": "text/x-python",
   "name": "python",
   "nbconvert_exporter": "python",
   "pygments_lexer": "ipython3",
   "version": "3.8.10"
  }
 },
 "nbformat": 4,
 "nbformat_minor": 2
}
